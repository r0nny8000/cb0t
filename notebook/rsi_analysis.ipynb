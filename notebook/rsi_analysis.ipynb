{
 "cells": [
  {
   "cell_type": "code",
   "execution_count": null,
   "id": "4843690e",
   "metadata": {},
   "outputs": [
    {
     "name": "stdout",
     "output_type": "stream",
     "text": [
      "time\n",
      "2023-08    21\n",
      "2023-09     3\n",
      "2023-10     1\n",
      "2023-12     1\n",
      "2024-01     8\n",
      "2024-04    14\n",
      "2024-05     5\n",
      "2024-06    15\n",
      "2024-07    11\n",
      "2024-08    13\n",
      "2024-09     6\n",
      "2024-10     7\n",
      "2024-12     7\n",
      "2025-01     2\n",
      "2025-02    20\n",
      "2025-03    10\n",
      "2025-04     5\n",
      "2025-06     8\n",
      "Freq: M, dtype: int64\n"
     ]
    }
   ],
   "source": [
    "import pandas as pd\n",
    "import cb0t.engine as engine\n",
    "from  cb0t.btcusd import BTCUSD\n",
    "\n",
    "btcusd = BTCUSD()\n",
    "btcusd.RSI_below(50)\n",
    "df = btcusd.data_daily\n",
    "\n",
    "# Filter rows where RSI is below a value\n",
    "df_below = df[df['rsi'] < 42]\n",
    "\n",
    "# Group by month and count rows\n",
    "df_below_monthly_counts = df_below.groupby(df_below['time'].dt.to_period('M')).size()\n",
    "\n",
    "print(df_below_monthly_counts)\n",
    "\n"
   ]
  },
  {
   "cell_type": "code",
   "execution_count": null,
   "id": "c8eae1ef",
   "metadata": {},
   "outputs": [],
   "source": []
  }
 ],
 "metadata": {
  "kernelspec": {
   "display_name": "cb0t-KvbYgg89-py3.12",
   "language": "python",
   "name": "python3"
  },
  "language_info": {
   "codemirror_mode": {
    "name": "ipython",
    "version": 3
   },
   "file_extension": ".py",
   "mimetype": "text/x-python",
   "name": "python",
   "nbconvert_exporter": "python",
   "pygments_lexer": "ipython3",
   "version": "3.12.10"
  }
 },
 "nbformat": 4,
 "nbformat_minor": 5
}

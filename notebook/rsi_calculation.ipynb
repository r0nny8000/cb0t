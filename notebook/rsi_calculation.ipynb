{
 "cells": [
  {
   "cell_type": "code",
   "execution_count": null,
   "id": "4843690e",
   "metadata": {},
   "outputs": [
    {
     "name": "stdout",
     "output_type": "stream",
     "text": [
      "time\n",
      "2024-12     7\n",
      "2025-01     2\n",
      "2025-02    20\n",
      "2025-03    10\n",
      "2025-04     5\n",
      "2025-06     8\n",
      "Freq: M, dtype: int64\n"
     ]
    }
   ],
   "source": [
    "import pandas as pd\n",
    "import cb0t.engine as engine\n",
    "\n",
    "df = pd.DataFrame() # Empty DataFrame\n",
    "\n",
    "# Fetch data from the engine and populate the DataFrame\n",
    "data = engine.get_ohlc('XXBTZUSD', '1d', 256)\n",
    "df = pd.DataFrame(data, columns=['time', 'open', 'high', 'low', 'close', 'vwap', 'volume', 'count'])\n",
    "\n",
    "df['time'] = pd.to_datetime(df['time'], unit='s')\n",
    "\n",
    "df['change'] = df['close'].astype(float).diff()\n",
    "df['gain'] = df.change.mask(df.change < 0, 0.0)\n",
    "df['loss'] = -df.change.mask(df.change > 0, -0.0)\n",
    "\n",
    "# Calculate average gain and loss\n",
    "window = 14  # RSI period\n",
    "df['avg_gain'] = df['gain'].rolling(window=window, min_periods=window).mean()\n",
    "df['avg_loss'] = df['loss'].rolling(window=window, min_periods=window).mean()\n",
    "\n",
    "df['rs'] = df.avg_gain / df.avg_loss\n",
    "df['rsi'] = 100 - (100 / (1 + df.rs))\n",
    "\n",
    "# Display the DataFrame\n",
    "df.tail(8)\n",
    "\n"
   ]
  }
 ],
 "metadata": {
  "kernelspec": {
   "display_name": "cb0t-KvbYgg89-py3.12",
   "language": "python",
   "name": "python3"
  },
  "language_info": {
   "codemirror_mode": {
    "name": "ipython",
    "version": 3
   },
   "file_extension": ".py",
   "mimetype": "text/x-python",
   "name": "python",
   "nbconvert_exporter": "python",
   "pygments_lexer": "ipython3",
   "version": "3.12.10"
  }
 },
 "nbformat": 4,
 "nbformat_minor": 5
}

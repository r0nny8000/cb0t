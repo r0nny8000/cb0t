{
 "cells": [
  {
   "cell_type": "code",
   "execution_count": 1,
   "id": "4843690e",
   "metadata": {},
   "outputs": [
    {
     "name": "stdout",
     "output_type": "stream",
     "text": [
      "       time  BTCEUR  ETHEUR  SOLEUR\n",
      "0   2023-10       1       8       1\n",
      "1   2023-12       3       3       0\n",
      "2   2024-01       9       8       2\n",
      "3   2024-02       0       4       0\n",
      "4   2024-03       2       5       0\n",
      "5   2024-04      15       7       8\n",
      "6   2024-05       9       8       0\n",
      "7   2024-06      16      16      13\n",
      "8   2024-07      14      12       0\n",
      "9   2024-08      17      19      10\n",
      "10  2024-09       6       9       4\n",
      "11  2024-10       6       8       1\n",
      "12  2024-11       0       3       0\n",
      "13  2024-12       7      10       9\n",
      "14  2025-01       3       5       0\n",
      "15  2025-02      24      19      23\n",
      "16  2025-03      18      21       5\n",
      "17  2025-04       9      18       5\n",
      "18  2025-06      14       9      10\n",
      "19  2025-07       2       1       0\n",
      "20  2025-08       6       1       3\n",
      "BTC RSI below count  EUR: 181 Invested: 1448 EUR\n",
      "ETH RSI below count  EUR: 194 Invested: 1552 EUR\n",
      "SOL RSI below count  EUR: 94 Invested: 376 EUR\n"
     ]
    }
   ],
   "source": [
    "import pandas as pd\n",
    "from assets.asset_pairs import * # pylint: disable=wildcard-import,unused-wildcard-import\n",
    "\n",
    "\n",
    "btceur = BTCEUR()\n",
    "btceur.calculate_rsi()\n",
    "btceur_below_rsi = btceur.df_1d[btceur.df_1d['rsi'] < 45]\n",
    "btceur_below_rsi_monthly_counts = btceur_below_rsi.groupby(btceur_below_rsi['time'].dt.to_period('M')).size()\n",
    "\n",
    "etheur = ETHEUR()\n",
    "etheur.calculate_rsi()\n",
    "etheur_below_rsi = etheur.df_1d[etheur.df_1d['rsi'] < 40]\n",
    "etheur_below_rsi_monthly_counts = etheur_below_rsi.groupby(etheur_below_rsi['time'].dt.to_period('M')).size()\n",
    "\n",
    "\n",
    "soleur = SOLEUR()\n",
    "soleur.calculate_rsi()\n",
    "soleur_below_rsi = soleur.df_1d[soleur.df_1d['rsi'] < 35]\n",
    "soleur_below_rsi_monthly_counts = soleur_below_rsi.groupby(soleur_below_rsi['time'].dt.to_period('M')).size()\n",
    "\n",
    "# paxgeur = PAXGEUR()\n",
    "# paxgeur.calculate_rsi()\n",
    "# paxgeur_below_rsi = paxgeur.df_1d[paxgeur.df_1d['rsi'] < 35]\n",
    "# paxgeur_below_rsi_monthly_counts = paxgeur_below_rsi.groupby(paxgeur_below_rsi['time'].dt.to_period('M')).size()\n",
    "\n",
    "# Combine into a single DataFrame\n",
    "below_rsi_monthly_counts = pd.concat(\n",
    "    [# btcusd_below_rsi_monthly_counts.rename('BTCUSD'),\n",
    "     btceur_below_rsi_monthly_counts.rename('BTCEUR'),\n",
    "     # ethusd_below_rsi_monthly_counts.rename('ETHUSD'),\n",
    "     etheur_below_rsi_monthly_counts.rename('ETHEUR'),\n",
    "     # solusd_below_rsi_monthly_counts.rename('SOLUSD'),\n",
    "     soleur_below_rsi_monthly_counts.rename('SOLEUR'),\n",
    "     # paxgeur_below_rsi_monthly_counts.rename('PAXGEUR')\n",
    "    ],\n",
    "    axis=1\n",
    ").fillna(0).astype(int).reset_index()\n",
    "\n",
    "below_rsi_monthly_counts = below_rsi_monthly_counts.sort_values(\"time\").reset_index(drop=True)\n",
    "print(below_rsi_monthly_counts)\n",
    "\n",
    "print(f\"BTC RSI below count  EUR: {btceur_below_rsi_monthly_counts.sum()} Invested: {btceur_below_rsi_monthly_counts.sum() * 8} EUR\")\n",
    "print(f\"ETH RSI below count  EUR: {etheur_below_rsi_monthly_counts.sum()} Invested: {etheur_below_rsi_monthly_counts.sum() * 8} EUR\")\n",
    "print(f\"SOL RSI below count  EUR: {soleur_below_rsi_monthly_counts.sum()} Invested: {soleur_below_rsi_monthly_counts.sum() * 4} EUR\")\n",
    "# print(f\"PAXG RSI below count EUR: {paxgeur_below_rsi_monthly_counts.sum()} Invested: {paxgeur_below_rsi_monthly_counts.sum() * 8} EUR\")\n"
   ]
  },
  {
   "cell_type": "code",
   "execution_count": null,
   "id": "849f220c",
   "metadata": {},
   "outputs": [],
   "source": []
  }
 ],
 "metadata": {
  "kernelspec": {
   "display_name": "cb0t-KvbYgg89-py3.12",
   "language": "python",
   "name": "python3"
  },
  "language_info": {
   "codemirror_mode": {
    "name": "ipython",
    "version": 3
   },
   "file_extension": ".py",
   "mimetype": "text/x-python",
   "name": "python",
   "nbconvert_exporter": "python",
   "pygments_lexer": "ipython3",
   "version": "3.12.10"
  }
 },
 "nbformat": 4,
 "nbformat_minor": 5
}
